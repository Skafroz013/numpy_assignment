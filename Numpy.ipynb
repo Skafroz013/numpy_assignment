{
 "cells": [
  {
   "cell_type": "markdown",
   "id": "c9daf946-7ffa-4dbb-88a6-82b7292c93d9",
   "metadata": {},
   "source": [
    "1> What is a Python library? Why do we use Python libraries?"
   ]
  },
  {
   "cell_type": "markdown",
   "id": "93d17c48-96b8-4cc2-94d6-ab4768e1e6f4",
   "metadata": {},
   "source": [
    "A Python library is a collection of pre-written code, functions, and modules that extend the capabilities of the Python programming language. \n",
    "These libraries provide a set of tools and functionalities to perform specific tasks, making it easier for developers to implement complex features without having to write code\n",
    "from scratch.\n",
    "\n",
    "Python libraries serve several purposes, including:\n",
    "\n",
    "* Code Reusability: Libraries contain reusable code that can be easily integrated into different projects, saving time and effort for developers.\n",
    "* Modularity: Libraries allow for modular programming, where developers can break down their code into smaller, more manageable components.\n",
    "* Efficiency: Libraries are often optimized for performance and reliability. By using well-established libraries, developers can benefit from the expertise of others \n",
    "  and ensure that their code operates efficiently.\n",
    "* Rapid Development: Python libraries provide a foundation for rapid development. Developers can focus on implementing the unique aspects of their project while relying on libraries \n",
    "  to handle routine or standard tasks.\n",
    "* Standardization: Some libraries become de facto standards for certain tasks. For example, NumPy and pandas are widely used for numerical and data analysis tasks, respectively. \n",
    "  Using such standard libraries helps create consistency and compatibility across different projects.\n"
   ]
  },
  {
   "cell_type": "markdown",
   "id": "fb0dbb68-9a9f-4c3c-bef1-f66089b4d77d",
   "metadata": {},
   "source": [
    "\n",
    "\n",
    "\n",
    "2> What is the difference between Numpy array and and List?"
   ]
  },
  {
   "cell_type": "markdown",
   "id": "73473f47-75fe-43a2-a8ba-b07d6b12de97",
   "metadata": {},
   "source": [
    "* Homogeneity:\n",
    "\n",
    "List: Can contain elements of different data types.\n",
    "Numpy Array: Requires all elements to be of the same data type, promoting homogeneity.\n",
    "\n",
    "* Performance:\n",
    "\n",
    "List: Generally slower for numerical operations and large datasets.\n",
    "Numpy Array: Designed for numerical operations, providing faster and more efficient computations, especially with large datasets.\n",
    "\n",
    "* Memory Efficiency:\n",
    "\n",
    "List: More memory overhead due to the flexibility of storing different data types.\n",
    "Numpy Array: More memory-efficient due to homogeneous data type storage.\n",
    "* Syntax and Functionality:\n",
    "\n",
    "List: Offers more general-purpose functionality, suitable for various tasks.\n",
    "Numpy Array: Provides specialized functions for numerical operations, array manipulation, and linear algebra.\n",
    "\n",
    "* Convenience:\n",
    "\n",
    "List: More convenient for general-purpose tasks and small-scale data.\n",
    "Numpy Array: More convenient for mathematical and scientific computing involving large datasets.\n",
    "\n",
    "* Operations:\n",
    "\n",
    "List: Limited in terms of vectorized operations; often requires explicit looping.\n",
    "Numpy Array: Supports vectorized operations, enabling element-wise operations without the need for explicit loops.\n",
    "\n",
    "* Size and Dimension:\n",
    "\n",
    "List: Can be multi-dimensional but is not optimized for such use cases.\n",
    "Numpy Array: Specifically designed for multi-dimensional arrays and provides efficient operations on them.\n",
    "\n",
    "* Creation:\n",
    "\n",
    "List: Created using square brackets and can be easily extended or modified.\n",
    "Numpy Array: Created using the numpy.array() constructor and has fixed size upon creation."
   ]
  },
  {
   "cell_type": "markdown",
   "id": "ec48ebb0-ff95-497a-8d1d-af3cb602a21a",
   "metadata": {},
   "source": [
    "3>  Find the shape, size and dimension of the following array?\n",
    "\n",
    "[[1, 2, 3, 4]\n",
    "\n",
    "[5, 6, 7, 8],\n",
    "\n",
    "[9, 10, 11, 12]]"
   ]
  },
  {
   "cell_type": "code",
   "execution_count": 5,
   "id": "f215916e-126a-4742-b462-bd7ffe7deb34",
   "metadata": {},
   "outputs": [
    {
     "name": "stdout",
     "output_type": "stream",
     "text": [
      "Shape of the array: (3, 4)\n",
      "Size of the array: 12\n",
      "Dimension of the array: 2\n"
     ]
    }
   ],
   "source": [
    "import numpy as np\n",
    "\n",
    "# Define the array\n",
    "my_array = np.array([[1, 2, 3, 4],\n",
    "                    [5, 6, 7, 8],\n",
    "                    [9, 10, 11, 12]])\n",
    "\n",
    "# Find the shape\n",
    "shape_of_array = my_array.shape\n",
    "\n",
    "# Find the size\n",
    "size_of_array = my_array.size\n",
    "\n",
    "# Find the dimension\n",
    "dimension_of_array = my_array.ndim\n",
    "\n",
    "print(\"Shape of the array:\", shape_of_array)\n",
    "print(\"Size of the array:\", size_of_array)\n",
    "print(\"Dimension of the array:\", dimension_of_array)\n"
   ]
  },
  {
   "cell_type": "markdown",
   "id": "5266ed68-1b45-4bee-a299-a8a634b5f73b",
   "metadata": {},
   "source": [
    "4>  Write python code to access the first row of the following array?\n",
    "\n",
    "[[1, 2, 3, 4]\n",
    "\n",
    "[5, 6, 7, 8],\n",
    "\n",
    "[9, 10, 11, 12]]"
   ]
  },
  {
   "cell_type": "code",
   "execution_count": 6,
   "id": "b67f3905-b96a-4057-bd17-87b55b4a7578",
   "metadata": {},
   "outputs": [
    {
     "name": "stdout",
     "output_type": "stream",
     "text": [
      "First row of the array: [1 2 3 4]\n"
     ]
    }
   ],
   "source": [
    "import numpy as np\n",
    "\n",
    "# Define the array\n",
    "my_array = np.array([[1, 2, 3, 4],\n",
    "                    [5, 6, 7, 8],\n",
    "                    [9, 10, 11, 12]])\n",
    "\n",
    "# Access the first row\n",
    "first_row = my_array[0, :]\n",
    "\n",
    "print(\"First row of the array:\", first_row)\n"
   ]
  },
  {
   "cell_type": "markdown",
   "id": "5703618c-424d-43ff-9935-1926a3d32255",
   "metadata": {},
   "source": [
    "5>  How do you access the element at the third row and fourth column from the given numpy array?\n",
    "\n",
    "[[1, 2, 3, 4]\n",
    "\n",
    "[5, 6, 7, 8],\n",
    "\n",
    "[9, 10, 11, 12]]"
   ]
  },
  {
   "cell_type": "code",
   "execution_count": 7,
   "id": "c186ddbb-e1d2-4ca4-a77f-4660fe18bfa1",
   "metadata": {},
   "outputs": [
    {
     "name": "stdout",
     "output_type": "stream",
     "text": [
      "Element at the third row and fourth column: 12\n"
     ]
    }
   ],
   "source": [
    "import numpy as np\n",
    "\n",
    "# Define the array\n",
    "my_array = np.array([[1, 2, 3, 4],\n",
    "                    [5, 6, 7, 8],\n",
    "                    [9, 10, 11, 12]])\n",
    "\n",
    "# Access the element at the third row and fourth column\n",
    "element = my_array[2, 3]\n",
    "\n",
    "print(\"Element at the third row and fourth column:\", element)\n"
   ]
  },
  {
   "cell_type": "markdown",
   "id": "d1d4e975-1e31-4b64-aa66-2c4fbb03cf20",
   "metadata": {},
   "source": [
    "6>  Write code to extract all odd-indexed elements from the given numpy array?\n",
    "\n",
    "[[1, 2, 3, 4]\n",
    "\n",
    "[5, 6, 7, 8],\n",
    "\n",
    "[9, 10, 11, 12]]"
   ]
  },
  {
   "cell_type": "code",
   "execution_count": 8,
   "id": "cab8d13d-a4be-42e8-99db-f6a174f2206d",
   "metadata": {},
   "outputs": [
    {
     "name": "stdout",
     "output_type": "stream",
     "text": [
      "Odd-indexed elements from the array:\n",
      "[[ 2  4]\n",
      " [ 6  8]\n",
      " [10 12]]\n"
     ]
    }
   ],
   "source": [
    "import numpy as np\n",
    "\n",
    "# Define the array\n",
    "my_array = np.array([[1, 2, 3, 4],\n",
    "                    [5, 6, 7, 8],\n",
    "                    [9, 10, 11, 12]])\n",
    "\n",
    "# Extract all odd-indexed elements\n",
    "odd_indexed_elements = my_array[:, 1::2]\n",
    "\n",
    "print(\"Odd-indexed elements from the array:\")\n",
    "print(odd_indexed_elements)\n"
   ]
  },
  {
   "cell_type": "markdown",
   "id": "36f63981-ba23-442e-aacd-c009d35901d5",
   "metadata": {},
   "source": [
    "7> How can you generate a random 3x3 matrix with values between 0 and 1?"
   ]
  },
  {
   "cell_type": "code",
   "execution_count": 12,
   "id": "281a9fe9-5d9f-415b-92aa-116eef1f66af",
   "metadata": {},
   "outputs": [
    {
     "name": "stdout",
     "output_type": "stream",
     "text": [
      "Random 3x3 matrix:\n",
      "[[0.37798425 0.80850923 0.55995726]\n",
      " [0.91906916 0.78184042 0.91555058]\n",
      " [0.33249473 0.18807625 0.8739925 ]]\n"
     ]
    }
   ],
   "source": [
    "import numpy as np\n",
    "\n",
    "# Generate a random 3x3 matrix with values between 0 and 1\n",
    "random_matrix = np.random.rand(3, 3)\n",
    "\n",
    "print(\"Random 3x3 matrix:\")\n",
    "print(random_matrix)\n"
   ]
  },
  {
   "cell_type": "markdown",
   "id": "ad605f4f-daa5-4cee-975a-ebdddfce0f69",
   "metadata": {},
   "source": [
    "8> Describe the difference between np.random.rand and np.random.randn?"
   ]
  },
  {
   "cell_type": "markdown",
   "id": "3a253b8e-fc90-4eed-839d-1dc53346b737",
   "metadata": {},
   "source": [
    "* np.random.rand:\n",
    "\n",
    "This function generates random values from a uniform distribution over the half-open interval [0.0, 1.0). In other words, it produces random numbers that are uniformly distributed between 0 (inclusive) and 1 (exclusive).\n",
    "Syntax: np.random.rand(d0, d1, ..., dn), where d0, d1, ..., dn specify the dimensions of the output array."
   ]
  },
  {
   "cell_type": "code",
   "execution_count": 16,
   "id": "a36448f3-f50b-4a32-8c40-ad1b96cc51f5",
   "metadata": {},
   "outputs": [
    {
     "name": "stdout",
     "output_type": "stream",
     "text": [
      "[[0.5601027  0.70010053 0.43403384]\n",
      " [0.27902304 0.90690029 0.61859605]]\n"
     ]
    }
   ],
   "source": [
    "import numpy as np\n",
    "\n",
    "random_values = np.random.rand(2, 3)  # Example: Generates a 2x3 array with values between 0 and 1\n",
    "print(random_values)"
   ]
  },
  {
   "cell_type": "markdown",
   "id": "093b042e-ded1-4102-8f8d-b26178f955f7",
   "metadata": {},
   "source": [
    "* np.random.randn:\n",
    "\n",
    "This function generates random values from a standard normal distribution (mean = 0, standard deviation = 1). It produces numbers that are more likely to be close to 0 and less likely to be far from 0, following a bell-shaped curve (normal distribution).\n",
    "Syntax: np.random.randn(d0, d1, ..., dn), where d0, d1, ..., dn specify the dimensions of the output array."
   ]
  },
  {
   "cell_type": "code",
   "execution_count": 18,
   "id": "213ae70e-7194-411b-92eb-4d2847beb27a",
   "metadata": {},
   "outputs": [
    {
     "name": "stdout",
     "output_type": "stream",
     "text": [
      "[[-0.64092673  0.18813156 -0.4539975 ]\n",
      " [-0.977929    0.45901676 -1.31641213]]\n"
     ]
    }
   ],
   "source": [
    "import numpy as np\n",
    "\n",
    "random_values_normal = np.random.randn(2, 3)  # Example: Generates a 2x3 array with values from a normal distribution\n",
    "print(random_values_normal)"
   ]
  },
  {
   "cell_type": "markdown",
   "id": "430adb4f-aa0b-4804-ad04-5d1db3b0b839",
   "metadata": {},
   "source": [
    "9> Write code to increase the dimension of the following array?\n",
    "\n",
    "[[1, 2, 3, 4]\n",
    "\n",
    "[5, 6, 7, 8],\n",
    "\n",
    "[9, 10, 11, 12]]"
   ]
  },
  {
   "cell_type": "code",
   "execution_count": 19,
   "id": "4990b161-1492-42d2-9a6c-d11c8c504f69",
   "metadata": {},
   "outputs": [
    {
     "name": "stdout",
     "output_type": "stream",
     "text": [
      "Original array:\n",
      "[[ 1  2  3  4]\n",
      " [ 5  6  7  8]\n",
      " [ 9 10 11 12]]\n",
      "\n",
      "Array with increased dimension:\n",
      "[[[ 1]\n",
      "  [ 2]\n",
      "  [ 3]\n",
      "  [ 4]]\n",
      "\n",
      " [[ 5]\n",
      "  [ 6]\n",
      "  [ 7]\n",
      "  [ 8]]\n",
      "\n",
      " [[ 9]\n",
      "  [10]\n",
      "  [11]\n",
      "  [12]]]\n"
     ]
    }
   ],
   "source": [
    "import numpy as np\n",
    "\n",
    "# Given array\n",
    "original_array = np.array([[1, 2, 3, 4],\n",
    "                           [5, 6, 7, 8],\n",
    "                           [9, 10, 11, 12]])\n",
    "\n",
    "# Increase dimension along the third axis\n",
    "increased_dimension_array = np.expand_dims(original_array, axis=2)\n",
    "\n",
    "print(\"Original array:\")\n",
    "print(original_array)\n",
    "print(\"\\nArray with increased dimension:\")\n",
    "print(increased_dimension_array)\n"
   ]
  },
  {
   "cell_type": "markdown",
   "id": "14a52dbe-24c0-4543-90ba-860372fd3024",
   "metadata": {},
   "source": [
    "10>  How to transpose the following array in NumPy?\n",
    "\n",
    "[[1, 2, 3, 4]\n",
    "\n",
    "[5, 6, 7, 8],\n",
    "\n",
    "[9, 10, 11, 12]]"
   ]
  },
  {
   "cell_type": "code",
   "execution_count": 20,
   "id": "37d72f1a-6957-4573-b7c4-8f5b0b873274",
   "metadata": {},
   "outputs": [
    {
     "name": "stdout",
     "output_type": "stream",
     "text": [
      "Original array:\n",
      "[[ 1  2  3  4]\n",
      " [ 5  6  7  8]\n",
      " [ 9 10 11 12]]\n",
      "\n",
      "Transposed array:\n",
      "[[ 1  5  9]\n",
      " [ 2  6 10]\n",
      " [ 3  7 11]\n",
      " [ 4  8 12]]\n"
     ]
    }
   ],
   "source": [
    "import numpy as np\n",
    "\n",
    "# Given array\n",
    "original_array = np.array([[1, 2, 3, 4],\n",
    "                           [5, 6, 7, 8],\n",
    "                           [9, 10, 11, 12]])\n",
    "\n",
    "# Transpose the array using numpy.transpose\n",
    "transposed_array = np.transpose(original_array)\n",
    "\n",
    "# Alternatively, you can use the .T attribute\n",
    "# transposed_array = original_array.T\n",
    "\n",
    "print(\"Original array:\")\n",
    "print(original_array)\n",
    "print(\"\\nTransposed array:\")\n",
    "print(transposed_array)\n"
   ]
  },
  {
   "cell_type": "markdown",
   "id": "3445958a-803c-48c1-bd3e-c664cd79a20a",
   "metadata": {},
   "source": [
    "11>  Consider the following matrix:\n",
    "\n",
    "Matrix A2 [[1, 2, 3, 4] [5, 6, 7, 8],[9, 10, 11, 12]]\n",
    "\n",
    "Matrix B2 [[1, 2, 3, 4] [5, 6, 7, 8],[9, 10, 11, 12]]\n",
    "\n",
    "\n",
    "Perform the following operation using Python1\n",
    "* Index wise multiplication\n",
    "* Matrix multiplication\n",
    "* Add both the matrics\n",
    "* Subtract matrix B from A\n",
    "* Divide Matrix B by A"
   ]
  },
  {
   "cell_type": "code",
   "execution_count": 21,
   "id": "11ec0d55-2310-4cfa-bb39-6c215f12fd97",
   "metadata": {},
   "outputs": [
    {
     "name": "stdout",
     "output_type": "stream",
     "text": [
      "Index-wise (Element-wise) Multiplication Result:\n",
      "[[  1   4   9  16]\n",
      " [ 25  36  49  64]\n",
      " [ 81 100 121 144]]\n",
      "\n",
      "Matrix Multiplication Result:\n",
      "[[ 30  70 110]\n",
      " [ 70 174 278]\n",
      " [110 278 446]]\n",
      "\n",
      "Addition Result:\n",
      "[[ 2  4  6  8]\n",
      " [10 12 14 16]\n",
      " [18 20 22 24]]\n",
      "\n",
      "Subtraction Result:\n",
      "[[0 0 0 0]\n",
      " [0 0 0 0]\n",
      " [0 0 0 0]]\n",
      "\n",
      "Division Result:\n",
      "[[1. 1. 1. 1.]\n",
      " [1. 1. 1. 1.]\n",
      " [1. 1. 1. 1.]]\n"
     ]
    }
   ],
   "source": [
    "import numpy as np\n",
    "\n",
    "# Define matrices A2 and B2\n",
    "A2 = np.array([[1, 2, 3, 4],\n",
    "               [5, 6, 7, 8],\n",
    "               [9, 10, 11, 12]])\n",
    "\n",
    "B2 = np.array([[1, 2, 3, 4],\n",
    "               [5, 6, 7, 8],\n",
    "               [9, 10, 11, 12]])\n",
    "\n",
    "# Index-wise (element-wise) multiplication\n",
    "index_wise_multiplication_result = A2 * B2\n",
    "\n",
    "# Matrix multiplication\n",
    "matrix_multiplication_result = np.dot(A2, B2.T)  # Assuming you want to multiply A2 by the transpose of B2\n",
    "\n",
    "# Addition\n",
    "addition_result = A2 + B2\n",
    "\n",
    "# Subtraction\n",
    "subtraction_result = A2 - B2\n",
    "\n",
    "# Division\n",
    "division_result = np.divide(B2, A2)\n",
    "\n",
    "# Print results\n",
    "print(\"Index-wise (Element-wise) Multiplication Result:\")\n",
    "print(index_wise_multiplication_result)\n",
    "\n",
    "print(\"\\nMatrix Multiplication Result:\")\n",
    "print(matrix_multiplication_result)\n",
    "\n",
    "print(\"\\nAddition Result:\")\n",
    "print(addition_result)\n",
    "\n",
    "print(\"\\nSubtraction Result:\")\n",
    "print(subtraction_result)\n",
    "\n",
    "print(\"\\nDivision Result:\")\n",
    "print(division_result)\n"
   ]
  },
  {
   "cell_type": "markdown",
   "id": "2fb875a2-c2c8-418d-9ef4-0a9b91b48d1f",
   "metadata": {},
   "source": [
    "12> Which function in Numpy can be used to swap the byte order of an array?"
   ]
  },
  {
   "cell_type": "markdown",
   "id": "95a8c2a6-0811-4576-88e6-62430e1f199c",
   "metadata": {},
   "source": [
    "In NumPy, the function used to swap the byte order (endianness) of an array is numpy.ndarray.byteswap().\n",
    "\n",
    "Here's an example of how you can use it:"
   ]
  },
  {
   "cell_type": "code",
   "execution_count": 22,
   "id": "aff3519b-659f-4c1e-80e9-28b5a684e4f4",
   "metadata": {},
   "outputs": [
    {
     "name": "stdout",
     "output_type": "stream",
     "text": [
      "Original Array:\n",
      "[1 2 3 4]\n",
      "\n",
      "Swapped Array:\n",
      "[16777216 33554432 50331648 67108864]\n"
     ]
    }
   ],
   "source": [
    "import numpy as np\n",
    "\n",
    "# Create an example array\n",
    "original_array = np.array([1, 2, 3, 4], dtype=np.int32)\n",
    "\n",
    "# Swap byte order\n",
    "swapped_array = original_array.byteswap()\n",
    "\n",
    "# Print the original and swapped arrays\n",
    "print(\"Original Array:\")\n",
    "print(original_array)\n",
    "\n",
    "print(\"\\nSwapped Array:\")\n",
    "print(swapped_array)\n"
   ]
  },
  {
   "cell_type": "markdown",
   "id": "ea0f9e2d-bad8-47bf-8f7d-a4b91b64aede",
   "metadata": {},
   "source": [
    "13>  What is the significance of the np.linalg.inv function?"
   ]
  },
  {
   "cell_type": "markdown",
   "id": "335a1ea9-45aa-4cca-bc09-598ddf5fe10c",
   "metadata": {},
   "source": [
    "The np.linalg.inv function in NumPy is used to compute the multiplicative inverse (or matrix inverse) of a square matrix. The significance of this function lies in its applications, particularly in linear algebra. Here are some key points:\n",
    "\n",
    "Matrix Inverse:\n",
    "\n",
    "For a square matrix A, if there exists another matrix B such that the product AB (and BA) is the identity matrix, then B is the inverse of A.\n",
    "The inverse of a matrix is denoted as \n",
    "\n",
    "A \n",
    "−1\n",
    " .\n",
    "Solving Linear Equations:\n",
    "\n",
    "The matrix inverse is often used to solve systems of linear equations of the form \n",
    "\n",
    "Ax=B, where A is the coefficient matrix, x is the vector of variables, and B is the vector on the right-hand side.\n",
    "The solution can be expressed as \n",
    "\n",
    "x=A \n",
    "−1\n",
    " B.\n",
    "Eigenvalue and Eigenvector Calculations:\n",
    "\n",
    "The inverse of a matrix is used in the computation of eigenvalues and eigenvectors.\n",
    "Determinant Calculation:\n",
    "\n",
    "The inverse of a matrix is related to its determinant. The determinant of a matrix A is nonzero if and only if A has an inverse.\n",
    "Numerical Stability:\n",
    "\n",
    "Computing the inverse of a matrix numerically can be sensitive to round-off errors. The np.linalg.inv function in NumPy is implemented using efficient and numerically stable algorithms."
   ]
  },
  {
   "cell_type": "markdown",
   "id": "8f82d6b7-600e-4eec-a69c-0fdafea3845c",
   "metadata": {},
   "source": [
    " What does the np.reshape function do, and how is it used?"
   ]
  },
  {
   "cell_type": "markdown",
   "id": "8cbd5de8-ce97-4d20-9673-bf4e09291bdd",
   "metadata": {},
   "source": [
    "The np.reshape function in NumPy is used to change the shape of an array without changing its data. "
   ]
  },
  {
   "cell_type": "code",
   "execution_count": 23,
   "id": "02116134-7e16-46c6-a88d-04fe74276111",
   "metadata": {},
   "outputs": [
    {
     "name": "stdout",
     "output_type": "stream",
     "text": [
      "Original Array:\n",
      "[1 2 3 4 5 6]\n",
      "\n",
      "Reshaped Array:\n",
      "[[1 2 3]\n",
      " [4 5 6]]\n"
     ]
    }
   ],
   "source": [
    "#EXAMPLE\n",
    "\n",
    "import numpy as np\n",
    "\n",
    "# Create a 1D array\n",
    "original_array = np.array([1, 2, 3, 4, 5, 6])\n",
    "\n",
    "# Reshape the array to a 2x3 matrix\n",
    "reshaped_array = np.reshape(original_array, (2, 3))\n",
    "\n",
    "print(\"Original Array:\")\n",
    "print(original_array)\n",
    "\n",
    "print(\"\\nReshaped Array:\")\n",
    "print(reshaped_array)\n"
   ]
  },
  {
   "cell_type": "markdown",
   "id": "412e0e5a-f1fc-49d0-92c0-837dcc977afd",
   "metadata": {},
   "source": [
    "15>  What is broadcasting in Numpy?"
   ]
  },
  {
   "cell_type": "markdown",
   "id": "df05babb-b697-42d5-83d4-002bc1592fe9",
   "metadata": {},
   "source": [
    "In NumPy, broadcasting is a powerful feature that allows operations on arrays of different shapes and sizes without the need for explicit expansion or replication of the smaller array. This implicit behavior of extending the smaller array to match the shape of the larger one during operations is known as broadcasting."
   ]
  },
  {
   "cell_type": "code",
   "execution_count": null,
   "id": "ee235298-0531-4654-a2ae-bf37c532fae0",
   "metadata": {},
   "outputs": [],
   "source": [
    "#E"
   ]
  }
 ],
 "metadata": {
  "kernelspec": {
   "display_name": "Python 3 (ipykernel)",
   "language": "python",
   "name": "python3"
  },
  "language_info": {
   "codemirror_mode": {
    "name": "ipython",
    "version": 3
   },
   "file_extension": ".py",
   "mimetype": "text/x-python",
   "name": "python",
   "nbconvert_exporter": "python",
   "pygments_lexer": "ipython3",
   "version": "3.10.8"
  }
 },
 "nbformat": 4,
 "nbformat_minor": 5
}
